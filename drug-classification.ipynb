{
 "cells": [
  {
   "cell_type": "code",
   "execution_count": 1,
   "id": "75158bd2",
   "metadata": {
    "_cell_guid": "b1076dfc-b9ad-4769-8c92-a6c4dae69d19",
    "_uuid": "8f2839f25d086af736a60e9eeb907d3b93b6e0e5",
    "execution": {
     "iopub.execute_input": "2022-01-29T02:42:34.738073Z",
     "iopub.status.busy": "2022-01-29T02:42:34.737335Z",
     "iopub.status.idle": "2022-01-29T02:42:34.754456Z",
     "shell.execute_reply": "2022-01-29T02:42:34.753742Z",
     "shell.execute_reply.started": "2022-01-29T02:41:47.843863Z"
    },
    "papermill": {
     "duration": 0.080484,
     "end_time": "2022-01-29T02:42:34.754636",
     "exception": false,
     "start_time": "2022-01-29T02:42:34.674152",
     "status": "completed"
    },
    "tags": []
   },
   "outputs": [
    {
     "name": "stdout",
     "output_type": "stream",
     "text": [
      "/kaggle/input/drug-classification/drug200.csv\n"
     ]
    }
   ],
   "source": [
    "# This Python 3 environment comes with many helpful analytics libraries installed\n",
    "# It is defined by the kaggle/python Docker image: https://github.com/kaggle/docker-python\n",
    "# For example, here's several helpful packages to load\n",
    "\n",
    "import numpy as np # linear algebra\n",
    "import pandas as pd # data processing, CSV file I/O (e.g. pd.read_csv)\n",
    "\n",
    "# Input data files are available in the read-only \"../input/\" directory\n",
    "# For example, running this (by clicking run or pressing Shift+Enter) will list all files under the input directory\n",
    "\n",
    "import os\n",
    "for dirname, _, filenames in os.walk('/kaggle/input'):\n",
    "    for filename in filenames:\n",
    "        print(os.path.join(dirname, filename))\n",
    "\n",
    "# You can write up to 20GB to the current directory (/kaggle/working/) that gets preserved as output when you create a version using \"Save & Run All\" \n",
    "# You can also write temporary files to /kaggle/temp/, but they won't be saved outside of the current session"
   ]
  },
  {
   "cell_type": "markdown",
   "id": "409847ee",
   "metadata": {
    "papermill": {
     "duration": 0.034403,
     "end_time": "2022-01-29T02:42:34.823640",
     "exception": false,
     "start_time": "2022-01-29T02:42:34.789237",
     "status": "completed"
    },
    "tags": []
   },
   "source": [
    "#### Upvote if you like the work."
   ]
  },
  {
   "cell_type": "markdown",
   "id": "545a8977",
   "metadata": {
    "papermill": {
     "duration": 0.034607,
     "end_time": "2022-01-29T02:42:34.892517",
     "exception": false,
     "start_time": "2022-01-29T02:42:34.857910",
     "status": "completed"
    },
    "tags": []
   },
   "source": [
    "# Drug Classification"
   ]
  },
  {
   "cell_type": "markdown",
   "id": "c2604d66",
   "metadata": {
    "papermill": {
     "duration": 0.03524,
     "end_time": "2022-01-29T02:42:34.961768",
     "exception": false,
     "start_time": "2022-01-29T02:42:34.926528",
     "status": "completed"
    },
    "tags": []
   },
   "source": [
    "## Importing libraries"
   ]
  },
  {
   "cell_type": "code",
   "execution_count": 2,
   "id": "7ee87d12",
   "metadata": {
    "execution": {
     "iopub.execute_input": "2022-01-29T02:42:35.034584Z",
     "iopub.status.busy": "2022-01-29T02:42:35.034056Z",
     "iopub.status.idle": "2022-01-29T02:42:36.751484Z",
     "shell.execute_reply": "2022-01-29T02:42:36.752064Z",
     "shell.execute_reply.started": "2022-01-29T02:41:47.855355Z"
    },
    "papermill": {
     "duration": 1.757136,
     "end_time": "2022-01-29T02:42:36.752206",
     "exception": false,
     "start_time": "2022-01-29T02:42:34.995070",
     "status": "completed"
    },
    "tags": []
   },
   "outputs": [],
   "source": [
    "import matplotlib.pyplot as plt\n",
    "import seaborn as sns\n",
    "from sklearn.linear_model import LogisticRegression\n",
    "from sklearn.tree import DecisionTreeClassifier\n",
    "from sklearn.ensemble import RandomForestClassifier\n",
    "from sklearn.metrics import accuracy_score, confusion_matrix\n"
   ]
  },
  {
   "cell_type": "code",
   "execution_count": 3,
   "id": "ee5c251e",
   "metadata": {
    "execution": {
     "iopub.execute_input": "2022-01-29T02:42:36.826047Z",
     "iopub.status.busy": "2022-01-29T02:42:36.824140Z",
     "iopub.status.idle": "2022-01-29T02:42:36.859501Z",
     "shell.execute_reply": "2022-01-29T02:42:36.860126Z",
     "shell.execute_reply.started": "2022-01-29T02:41:47.864516Z"
    },
    "papermill": {
     "duration": 0.07406,
     "end_time": "2022-01-29T02:42:36.860291",
     "exception": false,
     "start_time": "2022-01-29T02:42:36.786231",
     "status": "completed"
    },
    "tags": []
   },
   "outputs": [
    {
     "data": {
      "text/html": [
       "<div>\n",
       "<style scoped>\n",
       "    .dataframe tbody tr th:only-of-type {\n",
       "        vertical-align: middle;\n",
       "    }\n",
       "\n",
       "    .dataframe tbody tr th {\n",
       "        vertical-align: top;\n",
       "    }\n",
       "\n",
       "    .dataframe thead th {\n",
       "        text-align: right;\n",
       "    }\n",
       "</style>\n",
       "<table border=\"1\" class=\"dataframe\">\n",
       "  <thead>\n",
       "    <tr style=\"text-align: right;\">\n",
       "      <th></th>\n",
       "      <th>Age</th>\n",
       "      <th>Sex</th>\n",
       "      <th>BP</th>\n",
       "      <th>Cholesterol</th>\n",
       "      <th>Na_to_K</th>\n",
       "      <th>Drug</th>\n",
       "    </tr>\n",
       "  </thead>\n",
       "  <tbody>\n",
       "    <tr>\n",
       "      <th>0</th>\n",
       "      <td>23</td>\n",
       "      <td>F</td>\n",
       "      <td>HIGH</td>\n",
       "      <td>HIGH</td>\n",
       "      <td>25.355</td>\n",
       "      <td>DrugY</td>\n",
       "    </tr>\n",
       "    <tr>\n",
       "      <th>1</th>\n",
       "      <td>47</td>\n",
       "      <td>M</td>\n",
       "      <td>LOW</td>\n",
       "      <td>HIGH</td>\n",
       "      <td>13.093</td>\n",
       "      <td>drugC</td>\n",
       "    </tr>\n",
       "    <tr>\n",
       "      <th>2</th>\n",
       "      <td>47</td>\n",
       "      <td>M</td>\n",
       "      <td>LOW</td>\n",
       "      <td>HIGH</td>\n",
       "      <td>10.114</td>\n",
       "      <td>drugC</td>\n",
       "    </tr>\n",
       "    <tr>\n",
       "      <th>3</th>\n",
       "      <td>28</td>\n",
       "      <td>F</td>\n",
       "      <td>NORMAL</td>\n",
       "      <td>HIGH</td>\n",
       "      <td>7.798</td>\n",
       "      <td>drugX</td>\n",
       "    </tr>\n",
       "    <tr>\n",
       "      <th>4</th>\n",
       "      <td>61</td>\n",
       "      <td>F</td>\n",
       "      <td>LOW</td>\n",
       "      <td>HIGH</td>\n",
       "      <td>18.043</td>\n",
       "      <td>DrugY</td>\n",
       "    </tr>\n",
       "  </tbody>\n",
       "</table>\n",
       "</div>"
      ],
      "text/plain": [
       "   Age Sex      BP Cholesterol  Na_to_K   Drug\n",
       "0   23   F    HIGH        HIGH   25.355  DrugY\n",
       "1   47   M     LOW        HIGH   13.093  drugC\n",
       "2   47   M     LOW        HIGH   10.114  drugC\n",
       "3   28   F  NORMAL        HIGH    7.798  drugX\n",
       "4   61   F     LOW        HIGH   18.043  DrugY"
      ]
     },
     "execution_count": 3,
     "metadata": {},
     "output_type": "execute_result"
    }
   ],
   "source": [
    "# reading the file using pandas\n",
    "\n",
    "drug_df = pd.read_csv('/kaggle/input/drug-classification/drug200.csv')\n",
    "drug_df.head()"
   ]
  },
  {
   "cell_type": "code",
   "execution_count": 4,
   "id": "740beccf",
   "metadata": {
    "execution": {
     "iopub.execute_input": "2022-01-29T02:42:36.974492Z",
     "iopub.status.busy": "2022-01-29T02:42:36.973540Z",
     "iopub.status.idle": "2022-01-29T02:42:36.996016Z",
     "shell.execute_reply": "2022-01-29T02:42:36.996845Z",
     "shell.execute_reply.started": "2022-01-29T02:41:47.889036Z"
    },
    "papermill": {
     "duration": 0.083942,
     "end_time": "2022-01-29T02:42:36.997045",
     "exception": false,
     "start_time": "2022-01-29T02:42:36.913103",
     "status": "completed"
    },
    "tags": []
   },
   "outputs": [
    {
     "name": "stdout",
     "output_type": "stream",
     "text": [
      "<class 'pandas.core.frame.DataFrame'>\n",
      "RangeIndex: 200 entries, 0 to 199\n",
      "Data columns (total 6 columns):\n",
      " #   Column       Non-Null Count  Dtype  \n",
      "---  ------       --------------  -----  \n",
      " 0   Age          200 non-null    int64  \n",
      " 1   Sex          200 non-null    object \n",
      " 2   BP           200 non-null    object \n",
      " 3   Cholesterol  200 non-null    object \n",
      " 4   Na_to_K      200 non-null    float64\n",
      " 5   Drug         200 non-null    object \n",
      "dtypes: float64(1), int64(1), object(4)\n",
      "memory usage: 9.5+ KB\n"
     ]
    }
   ],
   "source": [
    "# General info about dataset\n",
    "drug_df.info()"
   ]
  },
  {
   "cell_type": "markdown",
   "id": "b071af5b",
   "metadata": {
    "papermill": {
     "duration": 0.037056,
     "end_time": "2022-01-29T02:42:37.072054",
     "exception": false,
     "start_time": "2022-01-29T02:42:37.034998",
     "status": "completed"
    },
    "tags": []
   },
   "source": [
    "* **Age**: Age of the patient\n",
    "* **Sex**: Gender of the patients\n",
    "* **BP**: Blood Pressure of the patient\n",
    "* **Cholesterol**: Cholesterol of the patient\n",
    "* **Na_to_K**: Sodium to Potassium ratio in patient's blood\n",
    "* **Drug**: Drug type give to patients"
   ]
  },
  {
   "cell_type": "markdown",
   "id": "374c3a2a",
   "metadata": {
    "papermill": {
     "duration": 0.035341,
     "end_time": "2022-01-29T02:42:37.144362",
     "exception": false,
     "start_time": "2022-01-29T02:42:37.109021",
     "status": "completed"
    },
    "tags": []
   },
   "source": []
  },
  {
   "cell_type": "markdown",
   "id": "c03c7eeb",
   "metadata": {
    "papermill": {
     "duration": 0.034148,
     "end_time": "2022-01-29T02:42:37.213060",
     "exception": false,
     "start_time": "2022-01-29T02:42:37.178912",
     "status": "completed"
    },
    "tags": []
   },
   "source": [
    "# EDA and Visualizations"
   ]
  },
  {
   "cell_type": "markdown",
   "id": "8b8c5d24",
   "metadata": {
    "papermill": {
     "duration": 0.034257,
     "end_time": "2022-01-29T02:42:37.280853",
     "exception": false,
     "start_time": "2022-01-29T02:42:37.246596",
     "status": "completed"
    },
    "tags": []
   },
   "source": [
    "## Age"
   ]
  },
  {
   "cell_type": "code",
   "execution_count": 5,
   "id": "8406c74f",
   "metadata": {
    "execution": {
     "iopub.execute_input": "2022-01-29T02:42:37.355632Z",
     "iopub.status.busy": "2022-01-29T02:42:37.355165Z",
     "iopub.status.idle": "2022-01-29T02:42:37.661826Z",
     "shell.execute_reply": "2022-01-29T02:42:37.662335Z",
     "shell.execute_reply.started": "2022-01-29T02:41:47.902765Z"
    },
    "papermill": {
     "duration": 0.347567,
     "end_time": "2022-01-29T02:42:37.662476",
     "exception": false,
     "start_time": "2022-01-29T02:42:37.314909",
     "status": "completed"
    },
    "tags": []
   },
   "outputs": [
    {
     "data": {
      "text/plain": [
       "<AxesSubplot:title={'center':'AGE DISTRIBUTION'}, ylabel='Density'>"
      ]
     },
     "execution_count": 5,
     "metadata": {},
     "output_type": "execute_result"
    },
    {
     "data": {
      "image/png": "[encoded data removed]",
      "text/plain": [
       "<Figure size 432x288 with 1 Axes>"
      ]
     },
     "metadata": {
      "needs_background": "light"
     },
     "output_type": "display_data"
    }
   ],
   "source": [
    "plt.title(\"AGE DISTRIBUTION\")\n",
    "drug_df['Age'].plot(kind='kde')"
   ]
  },
  {
   "cell_type": "code",
   "execution_count": 6,
   "id": "57c9d3ad",
   "metadata": {
    "execution": {
     "iopub.execute_input": "2022-01-29T02:42:37.744258Z",
     "iopub.status.busy": "2022-01-29T02:42:37.743302Z",
     "iopub.status.idle": "2022-01-29T02:42:37.749670Z",
     "shell.execute_reply": "2022-01-29T02:42:37.749094Z",
     "shell.execute_reply.started": "2022-01-29T02:41:48.114653Z"
    },
    "papermill": {
     "duration": 0.044657,
     "end_time": "2022-01-29T02:42:37.749854",
     "exception": false,
     "start_time": "2022-01-29T02:42:37.705197",
     "status": "completed"
    },
    "tags": []
   },
   "outputs": [
    {
     "name": "stdout",
     "output_type": "stream",
     "text": [
      "Mean age is 44.315\n"
     ]
    }
   ],
   "source": [
    "print(f\"Mean age is {drug_df['Age'].mean()}\")"
   ]
  },
  {
   "cell_type": "markdown",
   "id": "bd3d4b66",
   "metadata": {
    "papermill": {
     "duration": 0.055291,
     "end_time": "2022-01-29T02:42:37.861203",
     "exception": false,
     "start_time": "2022-01-29T02:42:37.805912",
     "status": "completed"
    },
    "tags": []
   },
   "source": [
    "## Gender"
   ]
  },
  {
   "cell_type": "code",
   "execution_count": 7,
   "id": "36f7a81a",
   "metadata": {
    "execution": {
     "iopub.execute_input": "2022-01-29T02:42:37.974610Z",
     "iopub.status.busy": "2022-01-29T02:42:37.973694Z",
     "iopub.status.idle": "2022-01-29T02:42:38.108481Z",
     "shell.execute_reply": "2022-01-29T02:42:38.109214Z",
     "shell.execute_reply.started": "2022-01-29T02:41:48.121258Z"
    },
    "papermill": {
     "duration": 0.193812,
     "end_time": "2022-01-29T02:42:38.109398",
     "exception": false,
     "start_time": "2022-01-29T02:42:37.915586",
     "status": "completed"
    },
    "tags": []
   },
   "outputs": [
    {
     "data": {
      "text/plain": [
       "<AxesSubplot:title={'center':'Gender Distribution'}, xlabel='Sex', ylabel='count'>"
      ]
     },
     "execution_count": 7,
     "metadata": {},
     "output_type": "execute_result"
    },
    {
     "data": {
      "image/png": "[encoded data removed]",
      "text/plain": [
       "<Figure size 432x288 with 1 Axes>"
      ]
     },
     "metadata": {
      "needs_background": "light"
     },
     "output_type": "display_data"
    }
   ],
   "source": [
    "plt.title(\"Gender Distribution\")\n",
    "sns.set_style(\"darkgrid\")\n",
    "sns.countplot(x=drug_df.Sex)"
   ]
  },
  {
   "cell_type": "code",
   "execution_count": 8,
   "id": "2910304b",
   "metadata": {
    "execution": {
     "iopub.execute_input": "2022-01-29T02:42:38.231847Z",
     "iopub.status.busy": "2022-01-29T02:42:38.230266Z",
     "iopub.status.idle": "2022-01-29T02:42:38.236883Z",
     "shell.execute_reply": "2022-01-29T02:42:38.236171Z",
     "shell.execute_reply.started": "2022-01-29T02:41:48.254597Z"
    },
    "papermill": {
     "duration": 0.06793,
     "end_time": "2022-01-29T02:42:38.237034",
     "exception": false,
     "start_time": "2022-01-29T02:42:38.169104",
     "status": "completed"
    },
    "tags": []
   },
   "outputs": [
    {
     "name": "stdout",
     "output_type": "stream",
     "text": [
      "We can see that there is almost an equal distribution of male and female.\n"
     ]
    }
   ],
   "source": [
    "print(\"We can see that there is almost an equal distribution of male and female.\")"
   ]
  },
  {
   "cell_type": "markdown",
   "id": "77099703",
   "metadata": {
    "papermill": {
     "duration": 0.036673,
     "end_time": "2022-01-29T02:42:38.311910",
     "exception": false,
     "start_time": "2022-01-29T02:42:38.275237",
     "status": "completed"
    },
    "tags": []
   },
   "source": [
    "## Drug"
   ]
  },
  {
   "cell_type": "code",
   "execution_count": 9,
   "id": "67fad1ce",
   "metadata": {
    "execution": {
     "iopub.execute_input": "2022-01-29T02:42:38.392707Z",
     "iopub.status.busy": "2022-01-29T02:42:38.392228Z",
     "iopub.status.idle": "2022-01-29T02:42:38.394425Z",
     "shell.execute_reply": "2022-01-29T02:42:38.394826Z",
     "shell.execute_reply.started": "2022-01-29T02:41:48.261238Z"
    },
    "papermill": {
     "duration": 0.045969,
     "end_time": "2022-01-29T02:42:38.394951",
     "exception": false,
     "start_time": "2022-01-29T02:42:38.348982",
     "status": "completed"
    },
    "tags": []
   },
   "outputs": [
    {
     "data": {
      "text/plain": [
       "DrugY    91\n",
       "drugX    54\n",
       "drugA    23\n",
       "drugC    16\n",
       "drugB    16\n",
       "Name: Drug, dtype: int64"
      ]
     },
     "execution_count": 9,
     "metadata": {},
     "output_type": "execute_result"
    }
   ],
   "source": [
    "drug_df['Drug'].value_counts()"
   ]
  },
  {
   "cell_type": "code",
   "execution_count": 10,
   "id": "5b6b234f",
   "metadata": {
    "execution": {
     "iopub.execute_input": "2022-01-29T02:42:38.472589Z",
     "iopub.status.busy": "2022-01-29T02:42:38.471927Z",
     "iopub.status.idle": "2022-01-29T02:42:38.616416Z",
     "shell.execute_reply": "2022-01-29T02:42:38.617032Z",
     "shell.execute_reply.started": "2022-01-29T02:41:48.281567Z"
    },
    "papermill": {
     "duration": 0.185297,
     "end_time": "2022-01-29T02:42:38.617267",
     "exception": false,
     "start_time": "2022-01-29T02:42:38.431970",
     "status": "completed"
    },
    "tags": []
   },
   "outputs": [
    {
     "data": {
      "image/png": "[encoded data removed]",
      "text/plain": [
       "<Figure size 1080x576 with 1 Axes>"
      ]
     },
     "metadata": {},
     "output_type": "display_data"
    }
   ],
   "source": [
    "plt.figure(figsize=(15,8))\n",
    "plt.title(\"Drug Types\", fontsize=20, y=1.02)\n",
    "sns.countplot(x = drug_df.Drug, palette=\"hot\")\n",
    "plt.show()"
   ]
  },
  {
   "cell_type": "code",
   "execution_count": 11,
   "id": "813c4066",
   "metadata": {
    "execution": {
     "iopub.execute_input": "2022-01-29T02:42:38.739667Z",
     "iopub.status.busy": "2022-01-29T02:42:38.737438Z",
     "iopub.status.idle": "2022-01-29T02:42:38.743695Z",
     "shell.execute_reply": "2022-01-29T02:42:38.744341Z",
     "shell.execute_reply.started": "2022-01-29T02:41:48.415642Z"
    },
    "papermill": {
     "duration": 0.067819,
     "end_time": "2022-01-29T02:42:38.744522",
     "exception": false,
     "start_time": "2022-01-29T02:42:38.676703",
     "status": "completed"
    },
    "tags": []
   },
   "outputs": [
    {
     "name": "stdout",
     "output_type": "stream",
     "text": [
      "Drug Y is most commonly used and Drug C is least commonly used\n"
     ]
    }
   ],
   "source": [
    "print(\"Drug Y is most commonly used and Drug C is least commonly used\")"
   ]
  },
  {
   "cell_type": "markdown",
   "id": "14060efa",
   "metadata": {
    "papermill": {
     "duration": 0.041521,
     "end_time": "2022-01-29T02:42:38.824348",
     "exception": false,
     "start_time": "2022-01-29T02:42:38.782827",
     "status": "completed"
    },
    "tags": []
   },
   "source": []
  },
  {
   "cell_type": "code",
   "execution_count": 12,
   "id": "d4329102",
   "metadata": {
    "execution": {
     "iopub.execute_input": "2022-01-29T02:42:38.901642Z",
     "iopub.status.busy": "2022-01-29T02:42:38.901125Z",
     "iopub.status.idle": "2022-01-29T02:42:39.240988Z",
     "shell.execute_reply": "2022-01-29T02:42:39.241443Z",
     "shell.execute_reply.started": "2022-01-29T02:41:48.425596Z"
    },
    "papermill": {
     "duration": 0.38035,
     "end_time": "2022-01-29T02:42:39.241593",
     "exception": false,
     "start_time": "2022-01-29T02:42:38.861243",
     "status": "completed"
    },
    "tags": []
   },
   "outputs": [
    {
     "data": {
      "text/plain": [
       "<AxesSubplot:xlabel='Drug', ylabel='Age'>"
      ]
     },
     "execution_count": 12,
     "metadata": {},
     "output_type": "execute_result"
    },
    {
     "data": {
      "image/png": "[encoded data removed]",
      "text/plain": [
       "<Figure size 432x288 with 1 Axes>"
      ]
     },
     "metadata": {},
     "output_type": "display_data"
    }
   ],
   "source": [
    "sns.scatterplot(x='Drug',y='Age',hue='Sex',data=drug_df)"
   ]
  },
  {
   "cell_type": "code",
   "execution_count": 13,
   "id": "cda741b7",
   "metadata": {
    "execution": {
     "iopub.execute_input": "2022-01-29T02:42:39.329765Z",
     "iopub.status.busy": "2022-01-29T02:42:39.329188Z",
     "iopub.status.idle": "2022-01-29T02:42:39.333288Z",
     "shell.execute_reply": "2022-01-29T02:42:39.333758Z",
     "shell.execute_reply.started": "2022-01-29T02:41:48.696165Z"
    },
    "papermill": {
     "duration": 0.049751,
     "end_time": "2022-01-29T02:42:39.333910",
     "exception": false,
     "start_time": "2022-01-29T02:42:39.284159",
     "status": "completed"
    },
    "tags": []
   },
   "outputs": [
    {
     "name": "stdout",
     "output_type": "stream",
     "text": [
      "We find that Drug B is used by people over age 50 and drug A is used by people under 50\n"
     ]
    }
   ],
   "source": [
    "print(\"We find that Drug B is used by people over age 50 and drug A is used by people under 50\")"
   ]
  },
  {
   "cell_type": "markdown",
   "id": "bad36f14",
   "metadata": {
    "papermill": {
     "duration": 0.040292,
     "end_time": "2022-01-29T02:42:39.414542",
     "exception": false,
     "start_time": "2022-01-29T02:42:39.374250",
     "status": "completed"
    },
    "tags": []
   },
   "source": [
    "## BloodPressure"
   ]
  },
  {
   "cell_type": "code",
   "execution_count": 14,
   "id": "8cd79030",
   "metadata": {
    "execution": {
     "iopub.execute_input": "2022-01-29T02:42:39.500047Z",
     "iopub.status.busy": "2022-01-29T02:42:39.499475Z",
     "iopub.status.idle": "2022-01-29T02:42:39.695010Z",
     "shell.execute_reply": "2022-01-29T02:42:39.695455Z",
     "shell.execute_reply.started": "2022-01-29T02:41:48.702234Z"
    },
    "papermill": {
     "duration": 0.240761,
     "end_time": "2022-01-29T02:42:39.695627",
     "exception": false,
     "start_time": "2022-01-29T02:42:39.454866",
     "status": "completed"
    },
    "tags": []
   },
   "outputs": [
    {
     "data": {
      "text/plain": [
       "<AxesSubplot:title={'center':'Blood Pressure'}, xlabel='BP', ylabel='count'>"
      ]
     },
     "execution_count": 14,
     "metadata": {},
     "output_type": "execute_result"
    },
    {
     "data": {
      "image/png": "[encoded data removed]",
      "text/plain": [
       "<Figure size 432x288 with 1 Axes>"
      ]
     },
     "metadata": {},
     "output_type": "display_data"
    }
   ],
   "source": [
    "plt.title(\"Blood Pressure\")\n",
    "sns.countplot(x=drug_df.BP)"
   ]
  },
  {
   "cell_type": "code",
   "execution_count": 15,
   "id": "867eb1d3",
   "metadata": {
    "execution": {
     "iopub.execute_input": "2022-01-29T02:42:39.785910Z",
     "iopub.status.busy": "2022-01-29T02:42:39.785158Z",
     "iopub.status.idle": "2022-01-29T02:42:40.052748Z",
     "shell.execute_reply": "2022-01-29T02:42:40.053183Z",
     "shell.execute_reply.started": "2022-01-29T02:41:48.852918Z"
    },
    "papermill": {
     "duration": 0.316214,
     "end_time": "2022-01-29T02:42:40.053332",
     "exception": false,
     "start_time": "2022-01-29T02:42:39.737118",
     "status": "completed"
    },
    "tags": []
   },
   "outputs": [
    {
     "data": {
      "text/plain": [
       "<AxesSubplot:xlabel='Drug', ylabel='count'>"
      ]
     },
     "execution_count": 15,
     "metadata": {},
     "output_type": "execute_result"
    },
    {
     "data": {
      "image/png": "[encoded data removed]",
      "text/plain": [
       "<Figure size 432x288 with 1 Axes>"
      ]
     },
     "metadata": {},
     "output_type": "display_data"
    }
   ],
   "source": [
    "sns.countplot(x='Drug',hue='BP',data = drug_df)"
   ]
  },
  {
   "cell_type": "markdown",
   "id": "a21ea41f",
   "metadata": {
    "papermill": {
     "duration": 0.044334,
     "end_time": "2022-01-29T02:42:40.141239",
     "exception": false,
     "start_time": "2022-01-29T02:42:40.096905",
     "status": "completed"
    },
    "tags": []
   },
   "source": [
    "* Drug B and Drug A is only used by people with high cholestrol\n",
    "* Drug C is only used by people with low cholestrol"
   ]
  },
  {
   "cell_type": "markdown",
   "id": "249579b2",
   "metadata": {
    "papermill": {
     "duration": 0.043008,
     "end_time": "2022-01-29T02:42:40.226460",
     "exception": false,
     "start_time": "2022-01-29T02:42:40.183452",
     "status": "completed"
    },
    "tags": []
   },
   "source": [
    "## Na_to_K"
   ]
  },
  {
   "cell_type": "code",
   "execution_count": 16,
   "id": "5e4fd97b",
   "metadata": {
    "execution": {
     "iopub.execute_input": "2022-01-29T02:42:40.311619Z",
     "iopub.status.busy": "2022-01-29T02:42:40.311157Z",
     "iopub.status.idle": "2022-01-29T02:42:40.617390Z",
     "shell.execute_reply": "2022-01-29T02:42:40.617842Z",
     "shell.execute_reply.started": "2022-01-29T02:41:49.074483Z"
    },
    "papermill": {
     "duration": 0.350371,
     "end_time": "2022-01-29T02:42:40.618007",
     "exception": false,
     "start_time": "2022-01-29T02:42:40.267636",
     "status": "completed"
    },
    "tags": []
   },
   "outputs": [
    {
     "data": {
      "text/plain": [
       "<AxesSubplot:xlabel='Drug', ylabel='Na_to_K'>"
      ]
     },
     "execution_count": 16,
     "metadata": {},
     "output_type": "execute_result"
    },
    {
     "data": {
      "image/png": "[encoded data removed]",
      "text/plain": [
       "<Figure size 432x288 with 1 Axes>"
      ]
     },
     "metadata": {},
     "output_type": "display_data"
    }
   ],
   "source": [
    "sns.scatterplot(x='Drug',y=\"Na_to_K\",hue='Sex',data=drug_df)"
   ]
  },
  {
   "cell_type": "markdown",
   "id": "3478f704",
   "metadata": {
    "papermill": {
     "duration": 0.044443,
     "end_time": "2022-01-29T02:42:40.705612",
     "exception": false,
     "start_time": "2022-01-29T02:42:40.661169",
     "status": "completed"
    },
    "tags": []
   },
   "source": [
    "* Drug Y is used by people with Na_to_K ratio greater than 15"
   ]
  },
  {
   "cell_type": "markdown",
   "id": "4ce94ca7",
   "metadata": {
    "papermill": {
     "duration": 0.043403,
     "end_time": "2022-01-29T02:42:40.791802",
     "exception": false,
     "start_time": "2022-01-29T02:42:40.748399",
     "status": "completed"
    },
    "tags": []
   },
   "source": [
    "# Categroical columns"
   ]
  },
  {
   "cell_type": "code",
   "execution_count": 17,
   "id": "17c74db7",
   "metadata": {
    "execution": {
     "iopub.execute_input": "2022-01-29T02:42:40.890366Z",
     "iopub.status.busy": "2022-01-29T02:42:40.889667Z",
     "iopub.status.idle": "2022-01-29T02:42:40.892466Z",
     "shell.execute_reply": "2022-01-29T02:42:40.891945Z",
     "shell.execute_reply.started": "2022-01-29T02:41:49.311040Z"
    },
    "papermill": {
     "duration": 0.05663,
     "end_time": "2022-01-29T02:42:40.892604",
     "exception": false,
     "start_time": "2022-01-29T02:42:40.835974",
     "status": "completed"
    },
    "tags": []
   },
   "outputs": [],
   "source": [
    "drug_df['Sex'] = drug_df['Sex'].map({'M': 1, 'F': 2})\n",
    "drug_df['BP'] = drug_df['BP'].map({'HIGH': 1, \"NORMAL\" : 2, \"LOW\" : 3})\n",
    "drug_df['Cholesterol'] = drug_df['Cholesterol'].map({'HIGH': 1, \"NORMAL\" : 2})\n",
    "drug_df[\"Drug\"] = drug_df[\"Drug\"].map({\"DrugY\":1, \"drugC\":2, \"drugX\":3, \"drugA\":4, \"drugB\":5})"
   ]
  },
  {
   "cell_type": "code",
   "execution_count": 18,
   "id": "e71cb4e6",
   "metadata": {
    "execution": {
     "iopub.execute_input": "2022-01-29T02:42:41.032019Z",
     "iopub.status.busy": "2022-01-29T02:42:41.031310Z",
     "iopub.status.idle": "2022-01-29T02:42:41.034815Z",
     "shell.execute_reply": "2022-01-29T02:42:41.035314Z",
     "shell.execute_reply.started": "2022-01-29T02:41:49.323131Z"
    },
    "papermill": {
     "duration": 0.078176,
     "end_time": "2022-01-29T02:42:41.035492",
     "exception": false,
     "start_time": "2022-01-29T02:42:40.957316",
     "status": "completed"
    },
    "tags": []
   },
   "outputs": [
    {
     "data": {
      "text/html": [
       "<div>\n",
       "<style scoped>\n",
       "    .dataframe tbody tr th:only-of-type {\n",
       "        vertical-align: middle;\n",
       "    }\n",
       "\n",
       "    .dataframe tbody tr th {\n",
       "        vertical-align: top;\n",
       "    }\n",
       "\n",
       "    .dataframe thead th {\n",
       "        text-align: right;\n",
       "    }\n",
       "</style>\n",
       "<table border=\"1\" class=\"dataframe\">\n",
       "  <thead>\n",
       "    <tr style=\"text-align: right;\">\n",
       "      <th></th>\n",
       "      <th>Age</th>\n",
       "      <th>Sex</th>\n",
       "      <th>BP</th>\n",
       "      <th>Cholesterol</th>\n",
       "      <th>Na_to_K</th>\n",
       "      <th>Drug</th>\n",
       "    </tr>\n",
       "  </thead>\n",
       "  <tbody>\n",
       "    <tr>\n",
       "      <th>0</th>\n",
       "      <td>23</td>\n",
       "      <td>2</td>\n",
       "      <td>1</td>\n",
       "      <td>1</td>\n",
       "      <td>25.355</td>\n",
       "      <td>1</td>\n",
       "    </tr>\n",
       "    <tr>\n",
       "      <th>1</th>\n",
       "      <td>47</td>\n",
       "      <td>1</td>\n",
       "      <td>3</td>\n",
       "      <td>1</td>\n",
       "      <td>13.093</td>\n",
       "      <td>2</td>\n",
       "    </tr>\n",
       "    <tr>\n",
       "      <th>2</th>\n",
       "      <td>47</td>\n",
       "      <td>1</td>\n",
       "      <td>3</td>\n",
       "      <td>1</td>\n",
       "      <td>10.114</td>\n",
       "      <td>2</td>\n",
       "    </tr>\n",
       "    <tr>\n",
       "      <th>3</th>\n",
       "      <td>28</td>\n",
       "      <td>2</td>\n",
       "      <td>2</td>\n",
       "      <td>1</td>\n",
       "      <td>7.798</td>\n",
       "      <td>3</td>\n",
       "    </tr>\n",
       "    <tr>\n",
       "      <th>4</th>\n",
       "      <td>61</td>\n",
       "      <td>2</td>\n",
       "      <td>3</td>\n",
       "      <td>1</td>\n",
       "      <td>18.043</td>\n",
       "      <td>1</td>\n",
       "    </tr>\n",
       "  </tbody>\n",
       "</table>\n",
       "</div>"
      ],
      "text/plain": [
       "   Age  Sex  BP  Cholesterol  Na_to_K  Drug\n",
       "0   23    2   1            1   25.355     1\n",
       "1   47    1   3            1   13.093     2\n",
       "2   47    1   3            1   10.114     2\n",
       "3   28    2   2            1    7.798     3\n",
       "4   61    2   3            1   18.043     1"
      ]
     },
     "execution_count": 18,
     "metadata": {},
     "output_type": "execute_result"
    }
   ],
   "source": [
    "drug_df.head()"
   ]
  },
  {
   "cell_type": "markdown",
   "id": "29364e2b",
   "metadata": {
    "papermill": {
     "duration": 0.063692,
     "end_time": "2022-01-29T02:42:41.163389",
     "exception": false,
     "start_time": "2022-01-29T02:42:41.099697",
     "status": "completed"
    },
    "tags": []
   },
   "source": [
    "## Splitting the data into training and test datasets"
   ]
  },
  {
   "cell_type": "code",
   "execution_count": 19,
   "id": "72505fb6",
   "metadata": {
    "execution": {
     "iopub.execute_input": "2022-01-29T02:42:41.299159Z",
     "iopub.status.busy": "2022-01-29T02:42:41.298496Z",
     "iopub.status.idle": "2022-01-29T02:42:41.304089Z",
     "shell.execute_reply": "2022-01-29T02:42:41.303445Z",
     "shell.execute_reply.started": "2022-01-29T02:41:49.336245Z"
    },
    "papermill": {
     "duration": 0.074713,
     "end_time": "2022-01-29T02:42:41.304236",
     "exception": false,
     "start_time": "2022-01-29T02:42:41.229523",
     "status": "completed"
    },
    "tags": []
   },
   "outputs": [],
   "source": [
    "X = drug_df.drop('Drug',axis=1)\n",
    "y = drug_df['Drug']"
   ]
  },
  {
   "cell_type": "code",
   "execution_count": 20,
   "id": "d51b5708",
   "metadata": {
    "execution": {
     "iopub.execute_input": "2022-01-29T02:42:41.444580Z",
     "iopub.status.busy": "2022-01-29T02:42:41.439121Z",
     "iopub.status.idle": "2022-01-29T02:42:41.447919Z",
     "shell.execute_reply": "2022-01-29T02:42:41.447289Z",
     "shell.execute_reply.started": "2022-01-29T02:41:49.345885Z"
    },
    "papermill": {
     "duration": 0.076655,
     "end_time": "2022-01-29T02:42:41.448067",
     "exception": false,
     "start_time": "2022-01-29T02:42:41.371412",
     "status": "completed"
    },
    "tags": []
   },
   "outputs": [],
   "source": [
    "from sklearn.model_selection import train_test_split\n",
    "X_train, X_test, y_train, y_test = train_test_split(X, y, test_size=0.2, random_state=42)"
   ]
  },
  {
   "cell_type": "code",
   "execution_count": 21,
   "id": "b2c401c6",
   "metadata": {
    "execution": {
     "iopub.execute_input": "2022-01-29T02:42:41.584952Z",
     "iopub.status.busy": "2022-01-29T02:42:41.584241Z",
     "iopub.status.idle": "2022-01-29T02:42:41.586811Z",
     "shell.execute_reply": "2022-01-29T02:42:41.587314Z",
     "shell.execute_reply.started": "2022-01-29T02:41:49.357101Z"
    },
    "papermill": {
     "duration": 0.073234,
     "end_time": "2022-01-29T02:42:41.587478",
     "exception": false,
     "start_time": "2022-01-29T02:42:41.514244",
     "status": "completed"
    },
    "tags": []
   },
   "outputs": [
    {
     "data": {
      "text/plain": [
       "(160, 40)"
      ]
     },
     "execution_count": 21,
     "metadata": {},
     "output_type": "execute_result"
    }
   ],
   "source": [
    "len(X_train),len(X_test)"
   ]
  },
  {
   "cell_type": "code",
   "execution_count": 22,
   "id": "31479db1",
   "metadata": {
    "execution": {
     "iopub.execute_input": "2022-01-29T02:42:41.723223Z",
     "iopub.status.busy": "2022-01-29T02:42:41.722554Z",
     "iopub.status.idle": "2022-01-29T02:42:41.730372Z",
     "shell.execute_reply": "2022-01-29T02:42:41.730959Z",
     "shell.execute_reply.started": "2022-01-29T02:41:49.367241Z"
    },
    "papermill": {
     "duration": 0.077077,
     "end_time": "2022-01-29T02:42:41.731147",
     "exception": false,
     "start_time": "2022-01-29T02:42:41.654070",
     "status": "completed"
    },
    "tags": []
   },
   "outputs": [],
   "source": [
    "from sklearn.preprocessing import StandardScaler\n",
    "scaler = StandardScaler()\n",
    "X_train = scaler.fit_transform(X_train)\n",
    "X_test = scaler.transform(X_test)"
   ]
  },
  {
   "cell_type": "markdown",
   "id": "fe26267e",
   "metadata": {
    "papermill": {
     "duration": 0.076977,
     "end_time": "2022-01-29T02:42:41.874140",
     "exception": false,
     "start_time": "2022-01-29T02:42:41.797163",
     "status": "completed"
    },
    "tags": []
   },
   "source": [
    "# Logistic Regression"
   ]
  },
  {
   "cell_type": "code",
   "execution_count": 23,
   "id": "63964add",
   "metadata": {
    "execution": {
     "iopub.execute_input": "2022-01-29T02:42:42.012312Z",
     "iopub.status.busy": "2022-01-29T02:42:42.011617Z",
     "iopub.status.idle": "2022-01-29T02:42:42.246831Z",
     "shell.execute_reply": "2022-01-29T02:42:42.246191Z",
     "shell.execute_reply.started": "2022-01-29T02:41:49.381650Z"
    },
    "papermill": {
     "duration": 0.302677,
     "end_time": "2022-01-29T02:42:42.247017",
     "exception": false,
     "start_time": "2022-01-29T02:42:41.944340",
     "status": "completed"
    },
    "tags": []
   },
   "outputs": [
    {
     "data": {
      "text/plain": [
       "LogisticRegression()"
      ]
     },
     "execution_count": 23,
     "metadata": {},
     "output_type": "execute_result"
    }
   ],
   "source": [
    "model = LogisticRegression()\n",
    "model.fit(X_train,y_train)"
   ]
  },
  {
   "cell_type": "code",
   "execution_count": 24,
   "id": "8e27bcb9",
   "metadata": {
    "execution": {
     "iopub.execute_input": "2022-01-29T02:42:42.387265Z",
     "iopub.status.busy": "2022-01-29T02:42:42.386578Z",
     "iopub.status.idle": "2022-01-29T02:42:42.390578Z",
     "shell.execute_reply": "2022-01-29T02:42:42.389788Z",
     "shell.execute_reply.started": "2022-01-29T02:41:49.403655Z"
    },
    "papermill": {
     "duration": 0.079186,
     "end_time": "2022-01-29T02:42:42.390762",
     "exception": false,
     "start_time": "2022-01-29T02:42:42.311576",
     "status": "completed"
    },
    "tags": []
   },
   "outputs": [
    {
     "name": "stdout",
     "output_type": "stream",
     "text": [
      "Accuracy score for logistic regression model is 92.5\n"
     ]
    }
   ],
   "source": [
    "print(f\"Accuracy score for logistic regression model is {model.score(X_test,y_test)*100}\")"
   ]
  },
  {
   "cell_type": "code",
   "execution_count": 25,
   "id": "19304740",
   "metadata": {
    "execution": {
     "iopub.execute_input": "2022-01-29T02:42:42.531651Z",
     "iopub.status.busy": "2022-01-29T02:42:42.527567Z",
     "iopub.status.idle": "2022-01-29T02:42:42.899771Z",
     "shell.execute_reply": "2022-01-29T02:42:42.900224Z",
     "shell.execute_reply.started": "2022-01-29T02:41:49.409178Z"
    },
    "papermill": {
     "duration": 0.441864,
     "end_time": "2022-01-29T02:42:42.900420",
     "exception": false,
     "start_time": "2022-01-29T02:42:42.458556",
     "status": "completed"
    },
    "tags": []
   },
   "outputs": [
    {
     "data": {
      "text/plain": [
       "<AxesSubplot:>"
      ]
     },
     "execution_count": 25,
     "metadata": {},
     "output_type": "execute_result"
    },
    {
     "data": {
      "image/png": "[encoded data removed]",
      "text/plain": [
       "<Figure size 432x288 with 2 Axes>"
      ]
     },
     "metadata": {},
     "output_type": "display_data"
    }
   ],
   "source": [
    "# Plotting the confusion matrix for this model\n",
    "predict = model.predict(X_test)\n",
    "cf = confusion_matrix(y_test,predict)\n",
    "sns.heatmap(cf, cmap='Reds',annot=True)"
   ]
  },
  {
   "cell_type": "code",
   "execution_count": 26,
   "id": "cdc6adaf",
   "metadata": {
    "execution": {
     "iopub.execute_input": "2022-01-29T02:42:42.999283Z",
     "iopub.status.busy": "2022-01-29T02:42:42.998698Z",
     "iopub.status.idle": "2022-01-29T02:42:43.008030Z",
     "shell.execute_reply": "2022-01-29T02:42:43.007577Z",
     "shell.execute_reply.started": "2022-01-29T02:41:49.671836Z"
    },
    "papermill": {
     "duration": 0.063145,
     "end_time": "2022-01-29T02:42:43.008149",
     "exception": false,
     "start_time": "2022-01-29T02:42:42.945004",
     "status": "completed"
    },
    "tags": []
   },
   "outputs": [
    {
     "name": "stdout",
     "output_type": "stream",
     "text": [
      "              precision    recall  f1-score   support\n",
      "\n",
      "           1       1.00      0.93      0.97        15\n",
      "           2       1.00      0.60      0.75         5\n",
      "           3       0.85      1.00      0.92        11\n",
      "           4       0.86      1.00      0.92         6\n",
      "           5       1.00      1.00      1.00         3\n",
      "\n",
      "    accuracy                           0.93        40\n",
      "   macro avg       0.94      0.91      0.91        40\n",
      "weighted avg       0.94      0.93      0.92        40\n",
      "\n"
     ]
    }
   ],
   "source": [
    "# Classification report for Logistic Regression\n",
    "from sklearn import metrics\n",
    "print(metrics.classification_report(y_test,predict))"
   ]
  },
  {
   "cell_type": "markdown",
   "id": "1e87a1a5",
   "metadata": {
    "papermill": {
     "duration": 0.050329,
     "end_time": "2022-01-29T02:42:43.106474",
     "exception": false,
     "start_time": "2022-01-29T02:42:43.056145",
     "status": "completed"
    },
    "tags": []
   },
   "source": [
    "# Random Forest Classifier"
   ]
  },
  {
   "cell_type": "code",
   "execution_count": 27,
   "id": "96c8a4a9",
   "metadata": {
    "execution": {
     "iopub.execute_input": "2022-01-29T02:42:43.199890Z",
     "iopub.status.busy": "2022-01-29T02:42:43.199413Z",
     "iopub.status.idle": "2022-01-29T02:42:43.399103Z",
     "shell.execute_reply": "2022-01-29T02:42:43.398628Z",
     "shell.execute_reply.started": "2022-01-29T02:41:49.680896Z"
    },
    "papermill": {
     "duration": 0.247522,
     "end_time": "2022-01-29T02:42:43.399226",
     "exception": false,
     "start_time": "2022-01-29T02:42:43.151704",
     "status": "completed"
    },
    "tags": []
   },
   "outputs": [
    {
     "data": {
      "text/plain": [
       "RandomForestClassifier()"
      ]
     },
     "execution_count": 27,
     "metadata": {},
     "output_type": "execute_result"
    }
   ],
   "source": [
    "model = RandomForestClassifier()\n",
    "model.fit(X_train,y_train)"
   ]
  },
  {
   "cell_type": "code",
   "execution_count": 28,
   "id": "d8f7043a",
   "metadata": {
    "execution": {
     "iopub.execute_input": "2022-01-29T02:42:43.500461Z",
     "iopub.status.busy": "2022-01-29T02:42:43.497611Z",
     "iopub.status.idle": "2022-01-29T02:42:43.510922Z",
     "shell.execute_reply": "2022-01-29T02:42:43.511324Z",
     "shell.execute_reply.started": "2022-01-29T02:41:49.820813Z"
    },
    "papermill": {
     "duration": 0.066381,
     "end_time": "2022-01-29T02:42:43.511487",
     "exception": false,
     "start_time": "2022-01-29T02:42:43.445106",
     "status": "completed"
    },
    "tags": []
   },
   "outputs": [
    {
     "name": "stdout",
     "output_type": "stream",
     "text": [
      "Accuracy score for Random Forest model is 100.0\n"
     ]
    }
   ],
   "source": [
    "print(f\"Accuracy score for Random Forest model is {model.score(X_test,y_test)*100}\")"
   ]
  },
  {
   "cell_type": "code",
   "execution_count": 29,
   "id": "486e3f71",
   "metadata": {
    "execution": {
     "iopub.execute_input": "2022-01-29T02:42:43.608119Z",
     "iopub.status.busy": "2022-01-29T02:42:43.607557Z",
     "iopub.status.idle": "2022-01-29T02:42:43.969866Z",
     "shell.execute_reply": "2022-01-29T02:42:43.970241Z",
     "shell.execute_reply.started": "2022-01-29T02:41:49.835735Z"
    },
    "papermill": {
     "duration": 0.412144,
     "end_time": "2022-01-29T02:42:43.970397",
     "exception": false,
     "start_time": "2022-01-29T02:42:43.558253",
     "status": "completed"
    },
    "tags": []
   },
   "outputs": [
    {
     "data": {
      "text/plain": [
       "<AxesSubplot:>"
      ]
     },
     "execution_count": 29,
     "metadata": {},
     "output_type": "execute_result"
    },
    {
     "data": {
      "image/png": "[encoded data removed]",
      "text/plain": [
       "<Figure size 432x288 with 2 Axes>"
      ]
     },
     "metadata": {},
     "output_type": "display_data"
    }
   ],
   "source": [
    "# Plotting the confusion matrix for this model\n",
    "predict = model.predict(X_test)\n",
    "cf = confusion_matrix(y_test,predict)\n",
    "sns.heatmap(cf, cmap='Reds',annot=True)"
   ]
  },
  {
   "cell_type": "code",
   "execution_count": 30,
   "id": "0f4e84ac",
   "metadata": {
    "execution": {
     "iopub.execute_input": "2022-01-29T02:42:44.069707Z",
     "iopub.status.busy": "2022-01-29T02:42:44.069196Z",
     "iopub.status.idle": "2022-01-29T02:42:44.076963Z",
     "shell.execute_reply": "2022-01-29T02:42:44.077352Z",
     "shell.execute_reply.started": "2022-01-29T02:41:50.110996Z"
    },
    "papermill": {
     "duration": 0.058716,
     "end_time": "2022-01-29T02:42:44.077494",
     "exception": false,
     "start_time": "2022-01-29T02:42:44.018778",
     "status": "completed"
    },
    "tags": []
   },
   "outputs": [
    {
     "name": "stdout",
     "output_type": "stream",
     "text": [
      "              precision    recall  f1-score   support\n",
      "\n",
      "           1       1.00      1.00      1.00        15\n",
      "           2       1.00      1.00      1.00         5\n",
      "           3       1.00      1.00      1.00        11\n",
      "           4       1.00      1.00      1.00         6\n",
      "           5       1.00      1.00      1.00         3\n",
      "\n",
      "    accuracy                           1.00        40\n",
      "   macro avg       1.00      1.00      1.00        40\n",
      "weighted avg       1.00      1.00      1.00        40\n",
      "\n"
     ]
    }
   ],
   "source": [
    "# Classification report for Random Forest\n",
    "from sklearn import metrics\n",
    "print(metrics.classification_report(y_test,predict))"
   ]
  },
  {
   "cell_type": "markdown",
   "id": "94db7886",
   "metadata": {
    "papermill": {
     "duration": 0.044999,
     "end_time": "2022-01-29T02:42:44.168185",
     "exception": false,
     "start_time": "2022-01-29T02:42:44.123186",
     "status": "completed"
    },
    "tags": []
   },
   "source": [
    "# Decision Tree Classifier"
   ]
  },
  {
   "cell_type": "code",
   "execution_count": 31,
   "id": "480331fb",
   "metadata": {
    "execution": {
     "iopub.execute_input": "2022-01-29T02:42:44.269927Z",
     "iopub.status.busy": "2022-01-29T02:42:44.269389Z",
     "iopub.status.idle": "2022-01-29T02:42:44.275851Z",
     "shell.execute_reply": "2022-01-29T02:42:44.275246Z",
     "shell.execute_reply.started": "2022-01-29T02:41:50.121437Z"
    },
    "papermill": {
     "duration": 0.060473,
     "end_time": "2022-01-29T02:42:44.275978",
     "exception": false,
     "start_time": "2022-01-29T02:42:44.215505",
     "status": "completed"
    },
    "tags": []
   },
   "outputs": [
    {
     "data": {
      "text/plain": [
       "DecisionTreeClassifier()"
      ]
     },
     "execution_count": 31,
     "metadata": {},
     "output_type": "execute_result"
    }
   ],
   "source": [
    "model = DecisionTreeClassifier()\n",
    "model.fit(X_train,y_train)"
   ]
  },
  {
   "cell_type": "code",
   "execution_count": 32,
   "id": "e1287660",
   "metadata": {
    "execution": {
     "iopub.execute_input": "2022-01-29T02:42:44.373907Z",
     "iopub.status.busy": "2022-01-29T02:42:44.373209Z",
     "iopub.status.idle": "2022-01-29T02:42:44.375771Z",
     "shell.execute_reply": "2022-01-29T02:42:44.376268Z",
     "shell.execute_reply.started": "2022-01-29T02:41:50.135379Z"
    },
    "papermill": {
     "duration": 0.054775,
     "end_time": "2022-01-29T02:42:44.376430",
     "exception": false,
     "start_time": "2022-01-29T02:42:44.321655",
     "status": "completed"
    },
    "tags": []
   },
   "outputs": [
    {
     "name": "stdout",
     "output_type": "stream",
     "text": [
      "Accuracy score for Decision Tree Classifier is 100.0\n"
     ]
    }
   ],
   "source": [
    "print(f\"Accuracy score for Decision Tree Classifier is {model.score(X_test,y_test)*100}\")"
   ]
  },
  {
   "cell_type": "code",
   "execution_count": 33,
   "id": "a2c10021",
   "metadata": {
    "execution": {
     "iopub.execute_input": "2022-01-29T02:42:44.563887Z",
     "iopub.status.busy": "2022-01-29T02:42:44.560369Z",
     "iopub.status.idle": "2022-01-29T02:42:44.806023Z",
     "shell.execute_reply": "2022-01-29T02:42:44.805341Z",
     "shell.execute_reply.started": "2022-01-29T02:41:50.143019Z"
    },
    "papermill": {
     "duration": 0.359531,
     "end_time": "2022-01-29T02:42:44.806177",
     "exception": false,
     "start_time": "2022-01-29T02:42:44.446646",
     "status": "completed"
    },
    "tags": []
   },
   "outputs": [
    {
     "data": {
      "text/plain": [
       "<AxesSubplot:>"
      ]
     },
     "execution_count": 33,
     "metadata": {},
     "output_type": "execute_result"
    },
    {
     "data": {
      "image/png": "[encoded data removed]",
      "text/plain": [
       "<Figure size 432x288 with 2 Axes>"
      ]
     },
     "metadata": {},
     "output_type": "display_data"
    }
   ],
   "source": [
    "# Plotting the confusion matrix for this model\n",
    "predict = model.predict(X_test)\n",
    "cf = confusion_matrix(y_test,predict)\n",
    "sns.heatmap(cf, cmap='Reds',annot=True)"
   ]
  },
  {
   "cell_type": "code",
   "execution_count": 34,
   "id": "31874ec9",
   "metadata": {
    "execution": {
     "iopub.execute_input": "2022-01-29T02:42:44.958866Z",
     "iopub.status.busy": "2022-01-29T02:42:44.957967Z",
     "iopub.status.idle": "2022-01-29T02:42:44.967391Z",
     "shell.execute_reply": "2022-01-29T02:42:44.966644Z",
     "shell.execute_reply.started": "2022-01-29T02:41:50.453148Z"
    },
    "papermill": {
     "duration": 0.08896,
     "end_time": "2022-01-29T02:42:44.967555",
     "exception": false,
     "start_time": "2022-01-29T02:42:44.878595",
     "status": "completed"
    },
    "tags": []
   },
   "outputs": [
    {
     "name": "stdout",
     "output_type": "stream",
     "text": [
      "              precision    recall  f1-score   support\n",
      "\n",
      "           1       1.00      1.00      1.00        15\n",
      "           2       1.00      1.00      1.00         5\n",
      "           3       1.00      1.00      1.00        11\n",
      "           4       1.00      1.00      1.00         6\n",
      "           5       1.00      1.00      1.00         3\n",
      "\n",
      "    accuracy                           1.00        40\n",
      "   macro avg       1.00      1.00      1.00        40\n",
      "weighted avg       1.00      1.00      1.00        40\n",
      "\n"
     ]
    }
   ],
   "source": [
    "# Classification report for Decision Tree Classifier\n",
    "from sklearn import metrics\n",
    "print(metrics.classification_report(y_test,predict))"
   ]
  },
  {
   "cell_type": "markdown",
   "id": "15be9f7a",
   "metadata": {
    "papermill": {
     "duration": 0.070992,
     "end_time": "2022-01-29T02:42:45.110274",
     "exception": false,
     "start_time": "2022-01-29T02:42:45.039282",
     "status": "completed"
    },
    "tags": []
   },
   "source": [
    "# KNN with cross validation"
   ]
  },
  {
   "cell_type": "code",
   "execution_count": 35,
   "id": "e66141f0",
   "metadata": {
    "execution": {
     "iopub.execute_input": "2022-01-29T02:42:45.261031Z",
     "iopub.status.busy": "2022-01-29T02:42:45.260145Z",
     "iopub.status.idle": "2022-01-29T02:42:45.262073Z",
     "shell.execute_reply": "2022-01-29T02:42:45.262578Z",
     "shell.execute_reply.started": "2022-01-29T02:41:50.462109Z"
    },
    "papermill": {
     "duration": 0.08055,
     "end_time": "2022-01-29T02:42:45.262753",
     "exception": false,
     "start_time": "2022-01-29T02:42:45.182203",
     "status": "completed"
    },
    "tags": []
   },
   "outputs": [],
   "source": [
    "scores = {}"
   ]
  },
  {
   "cell_type": "code",
   "execution_count": 36,
   "id": "6979349c",
   "metadata": {
    "execution": {
     "iopub.execute_input": "2022-01-29T02:42:45.408586Z",
     "iopub.status.busy": "2022-01-29T02:42:45.407811Z",
     "iopub.status.idle": "2022-01-29T02:42:45.453011Z",
     "shell.execute_reply": "2022-01-29T02:42:45.452374Z",
     "shell.execute_reply.started": "2022-01-29T02:41:50.471751Z"
    },
    "papermill": {
     "duration": 0.11898,
     "end_time": "2022-01-29T02:42:45.453150",
     "exception": false,
     "start_time": "2022-01-29T02:42:45.334170",
     "status": "completed"
    },
    "tags": []
   },
   "outputs": [
    {
     "name": "stdout",
     "output_type": "stream",
     "text": [
      "KNN Score : 0.7100000000000001\n"
     ]
    }
   ],
   "source": [
    "from sklearn.neighbors import KNeighborsClassifier\n",
    "from sklearn.model_selection import cross_val_score\n",
    "knn_cv = KNeighborsClassifier(n_neighbors=3)\n",
    "cv_scores = cross_val_score(knn_cv, X,y,cv=5)\n",
    "scores['Knn']= np.mean(cv_scores)\n",
    "print(f\"KNN Score : {np.mean(cv_scores)}\")\n"
   ]
  },
  {
   "cell_type": "markdown",
   "id": "b8e0f734",
   "metadata": {
    "papermill": {
     "duration": 0.072444,
     "end_time": "2022-01-29T02:42:45.598621",
     "exception": false,
     "start_time": "2022-01-29T02:42:45.526177",
     "status": "completed"
    },
    "tags": []
   },
   "source": [
    "# SVM Classifier"
   ]
  },
  {
   "cell_type": "code",
   "execution_count": 37,
   "id": "a9ff7068",
   "metadata": {
    "execution": {
     "iopub.execute_input": "2022-01-29T02:42:45.769289Z",
     "iopub.status.busy": "2022-01-29T02:42:45.768445Z",
     "iopub.status.idle": "2022-01-29T02:42:45.772530Z",
     "shell.execute_reply": "2022-01-29T02:42:45.771911Z",
     "shell.execute_reply.started": "2022-01-29T02:41:50.510121Z"
    },
    "papermill": {
     "duration": 0.079912,
     "end_time": "2022-01-29T02:42:45.772672",
     "exception": false,
     "start_time": "2022-01-29T02:42:45.692760",
     "status": "completed"
    },
    "tags": []
   },
   "outputs": [],
   "source": [
    "#### To find best score of SVM model, I will try different value of C, kernel, degree and gamma parameters. The easy way to do this is GridSearchCV method."
   ]
  },
  {
   "cell_type": "markdown",
   "id": "23f5f40c",
   "metadata": {
    "papermill": {
     "duration": 0.072478,
     "end_time": "2022-01-29T02:42:45.916969",
     "exception": false,
     "start_time": "2022-01-29T02:42:45.844491",
     "status": "completed"
    },
    "tags": []
   },
   "source": [
    "### Default parameters"
   ]
  },
  {
   "cell_type": "code",
   "execution_count": 38,
   "id": "d2d546e2",
   "metadata": {
    "execution": {
     "iopub.execute_input": "2022-01-29T02:42:46.071222Z",
     "iopub.status.busy": "2022-01-29T02:42:46.070361Z",
     "iopub.status.idle": "2022-01-29T02:42:46.117048Z",
     "shell.execute_reply": "2022-01-29T02:42:46.117680Z",
     "shell.execute_reply.started": "2022-01-29T02:41:50.515164Z"
    },
    "papermill": {
     "duration": 0.12727,
     "end_time": "2022-01-29T02:42:46.117876",
     "exception": false,
     "start_time": "2022-01-29T02:42:45.990606",
     "status": "completed"
    },
    "tags": []
   },
   "outputs": [
    {
     "name": "stdout",
     "output_type": "stream",
     "text": [
      "Accuracies : 0.7\n"
     ]
    }
   ],
   "source": [
    "from sklearn.svm import SVC\n",
    "svc = SVC(random_state=42)\n",
    "accuracies = cross_val_score(svc, X,y ,cv=5)\n",
    "print(f\"Accuracies : {np.mean(accuracies)}\")\n",
    "\n"
   ]
  },
  {
   "cell_type": "markdown",
   "id": "e0f8489f",
   "metadata": {
    "papermill": {
     "duration": 0.07256,
     "end_time": "2022-01-29T02:42:46.263585",
     "exception": false,
     "start_time": "2022-01-29T02:42:46.191025",
     "status": "completed"
    },
    "tags": []
   },
   "source": [
    "#### Grid Search CV"
   ]
  },
  {
   "cell_type": "code",
   "execution_count": 39,
   "id": "ec86c340",
   "metadata": {
    "execution": {
     "iopub.execute_input": "2022-01-29T02:42:46.416135Z",
     "iopub.status.busy": "2022-01-29T02:42:46.415290Z",
     "iopub.status.idle": "2022-01-29T02:42:48.609970Z",
     "shell.execute_reply": "2022-01-29T02:42:48.610510Z",
     "shell.execute_reply.started": "2022-01-29T02:41:50.552674Z"
    },
    "papermill": {
     "duration": 2.273067,
     "end_time": "2022-01-29T02:42:48.610688",
     "exception": false,
     "start_time": "2022-01-29T02:42:46.337621",
     "status": "completed"
    },
    "tags": []
   },
   "outputs": [
    {
     "name": "stdout",
     "output_type": "stream",
     "text": [
      "Best Parameters: {'C': 10, 'degree': 1, 'gamma': 0.01, 'kernel': 'linear'}\n",
      "Train Score: 0.96875\n",
      "Test Score: 1.0\n"
     ]
    }
   ],
   "source": [
    "from sklearn.model_selection import GridSearchCV\n",
    "grid = {\n",
    "    'C':[0.01,0.1,1,10],\n",
    "    'kernel' : [\"linear\",\"poly\",\"rbf\",\"sigmoid\"],\n",
    "    'degree' : [1,3,5,7],\n",
    "    'gamma' : [0.01,1]\n",
    "}\n",
    "\n",
    "svm  = SVC ();\n",
    "svm_cv = GridSearchCV(svm, grid, cv = 5)\n",
    "svm_cv.fit(X_train,y_train)\n",
    "print(\"Best Parameters:\",svm_cv.best_params_)\n",
    "print(\"Train Score:\",svm_cv.best_score_)\n",
    "print(\"Test Score:\",svm_cv.score(X_test,y_test))"
   ]
  },
  {
   "cell_type": "markdown",
   "id": "cf19006c",
   "metadata": {
    "papermill": {
     "duration": 0.074648,
     "end_time": "2022-01-29T02:42:48.759843",
     "exception": false,
     "start_time": "2022-01-29T02:42:48.685195",
     "status": "completed"
    },
    "tags": []
   },
   "source": [
    "## UPVOTE"
   ]
  }
 ],
 "metadata": {
  "kernelspec": {
   "display_name": "Python 3",
   "language": "python",
   "name": "python3"
  },
  "language_info": {
   "codemirror_mode": {
    "name": "ipython",
    "version": 3
   },
   "file_extension": ".py",
   "mimetype": "text/x-python",
   "name": "python",
   "nbconvert_exporter": "python",
   "pygments_lexer": "ipython3",
   "version": "3.7.12"
  },
  "papermill": {
   "default_parameters": {},
   "duration": 27.172717,
   "end_time": "2022-01-29T02:42:49.749417",
   "environment_variables": {},
   "exception": null,
   "input_path": "__notebook__.ipynb",
   "output_path": "__notebook__.ipynb",
   "parameters": {},
   "start_time": "2022-01-29T02:42:22.576700",
   "version": "2.3.3"
  }
 },
 "nbformat": 4,
 "nbformat_minor": 5
}
